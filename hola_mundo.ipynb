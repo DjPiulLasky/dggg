{
  "nbformat": 4,
  "nbformat_minor": 0,
  "metadata": {
    "colab": {
      "provenance": [],
      "authorship_tag": "ABX9TyNIlqqwnk6P9urEcvCgHZEe",
      "include_colab_link": true
    },
    "kernelspec": {
      "name": "python3",
      "display_name": "Python 3"
    },
    "language_info": {
      "name": "python"
    }
  },
  "cells": [
    {
      "cell_type": "markdown",
      "metadata": {
        "id": "view-in-github",
        "colab_type": "text"
      },
      "source": [
        "<a href=\"https://colab.research.google.com/github/DjPiulLasky/dggg/blob/master/hola_mundo.ipynb\" target=\"_parent\"><img src=\"https://colab.research.google.com/assets/colab-badge.svg\" alt=\"Open In Colab\"/></a>"
      ]
    },
    {
      "cell_type": "code",
      "source": [
        "while True:\n",
        "  try:\n",
        "      num1 = int(input(\"Ingrese el numero para calcular su factorial\"))\n",
        "      break\n",
        "  except ValueError:\n",
        "      print(\"El valor no es numero, Intentar de nuevo\")\n",
        "\n",
        "contador=int(1)\n",
        "factorial=int(1)\n",
        "while contador <= num1 :\n",
        "           factorial=factorial*contador\n",
        "           contador = contador+1\n",
        "\n",
        "print(\"El factorial es\", factorial)"
      ],
      "metadata": {
        "id": "Jrl5uRsDK6gd"
      },
      "execution_count": null,
      "outputs": []
    },
    {
      "cell_type": "code",
      "source": [],
      "metadata": {
        "id": "D2VI9xHZPs7E"
      },
      "execution_count": null,
      "outputs": []
    }
  ]
}